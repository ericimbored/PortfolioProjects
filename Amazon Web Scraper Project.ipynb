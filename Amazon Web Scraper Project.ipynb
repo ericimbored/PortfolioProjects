{
 "cells": [
  {
   "cell_type": "code",
   "execution_count": 1,
   "id": "6d9bd178",
   "metadata": {},
   "outputs": [],
   "source": [
    "# import libraries\n",
    "\n",
    "from bs4 import BeautifulSoup\n",
    "import requests \n",
    "import time\n",
    "import datetime\n",
    "\n",
    "import smtplib #send emails to yourself"
   ]
  },
   "source": [
    "# Connecting to website\n",
    "\n",
    "URL = 'https://www.amazon.com/Funny-Data-Systems-Business-Analyst/dp/B07FNW9FGJ/ref=sr_1_3?keywords=data%2Banalyst%2Btshirt&qid=1647550723&sprefix=data%2Banalys%2Caps%2C155&sr=8-3'\n",
    "\n",
    "headers = {\"User-Agent\": \"Mozilla/5.0 (Macintosh; Intel Mac OS X 10_15_7) AppleWebKit/537.36 (KHTML, like Gecko) Chrome/98.0.4758.102 Safari/537.36\", \"Accept-Encoding\":\"gzip, deflate\", \"Accept\":\"text/html,application/xhtml+xml,application/xml;q=0.9,*/*;q=0.8\", \"DNT\":\"1\",\"Connection\":\"close\", \"Upgrade-Insecure-Requests\":\"1\"}\n",
    "\n",
    "page = requests.get(URL, headers=headers)\n",
    "\n",
    "soup1 = BeautifulSoup(page.content, \"html.parser\")\n",
    "\n",
    "soup2 = BeautifulSoup(soup1.prettify(), \"html.parser\")\n",
    "\n",
    "title = soup2.find(id='productTitle').get_text() #getting the title\n",
    "\n",
    "price = soup2.find('span','a-offscreen').get_text() #getting the price\n",
    "\n",
    "#rating = soup2.find('span','a-icon-alt').get_text() #getting rating\n",
    "\n",
    "print(title)\n",
    "print(price)\n",
    "#print(rating)\n",
    "\n",
    "\n",
    "\n",
    "\n",
    "\n"
   ]
  },
  {
   "cell_type": "code",
   "execution_count": 16,
   "id": "e426fcba",
   "metadata": {},
   "outputs": [
    {
     "name": "stdout",
     "output_type": "stream",
     "text": [
      "Funny Got Data MIS Data Systems Business Analyst T-Shirt\n",
      "16.99\n"
     ]
    },
    {
     "data": {
      "text/plain": [
       "str"
      ]
     },
     "execution_count": 16,
     "metadata": {},
     "output_type": "execute_result"
    }
   ],
   "source": [
    "#removing empty space from the data\n",
    "\n",
    "price = price.strip()[1:] #removing the $\n",
    "title = title.strip() \n",
    "\n",
    "print(title)\n",
    "print(price)\n",
    "type(price)"
   ]
  },
  {
   "cell_type": "code",
   "execution_count": 1,
   "id": "3586de89",
   "metadata": {},
   "outputs": [
    {
     "name": "stdout",
     "output_type": "stream",
     "text": [
      "2022-03-17\n"
     ]
    }
   ],
   "source": [
    "import datetime\n",
    "\n",
    "today = datetime.date.today()\n",
    "\n",
    "print(today)"
   ]
  },
  {
   "cell_type": "code",
   "execution_count": 20,
   "id": "f1626c39",
   "metadata": {},
   "outputs": [],
   "source": [
    "#Creating CSV file and importing the data to the file\n",
    "\n",
    "import csv\n",
    "\n",
    "header = ['Title', 'Price', 'Date'] #creating the headers for dataset\n",
    "data = [title, price, today] #inserting the data into the table\n",
    "\n",
    "with open('AmazonWebScraperDataset.csv', 'w', newline='', encoding='UTF8') as f: #creating csv file and inserting the data, only run once\n",
    "   writer = csv.writer(f)\n",
    "   writer.writerow(header) \n",
    "   writer.writerow(data) \n"
   ]
  },
  {
   "cell_type": "code",
   "execution_count": 21,
   "id": "ecd0ce56",
   "metadata": {},
   "outputs": [
    {
     "name": "stdout",
     "output_type": "stream",
     "text": [
      "                                               Title  Price        Date\n",
      "0  Funny Got Data MIS Data Systems Business Analy...  16.99  2022-03-17\n"
     ]
    }
   ],
   "source": [
    "import pandas as pd\n",
    "\n",
    "df = pd.read_csv(r'/Users/ericmatos/AmazonWebScraperDataset.csv')\n",
    "\n",
    "print(df)\n"
   ]
  },
  {
   "cell_type": "code",
   "execution_count": null,
   "id": "53b2babe",
   "metadata": {},
   "outputs": [],
   "source": [
    "#Appending (adding on data) data to the CSV\n",
    "\n",
    "with open('AmazonWebScraperDataset.csv', 'a+', newline='', encoding='UTF8') as f: #creating csv file and inserting the data\n",
    "   writer = csv.writer(f)\n",
    "   writer.writerow(data)\n"
   ]
  },
  {
   "cell_type": "code",
   "execution_count": null,
   "id": "35be5b75",
   "metadata": {},
   "outputs": [],
   "source": [
    "#defines send email function \n",
    "\n",
    "def send_mail():\n",
    "    server = smtplib.SMTP_SSL('smtp.gmail.com',465)\n",
    "    server.ehlo()\n",
    "    server.login('ericmatos02@gmail.com','xxxxxxxxxx')\n",
    "    \n",
    "    subject = \"The shirt you want is below $15! Now is your chance to buy!\"\n",
    "    body = \"Eric, this is the moment we've been waiting for. Now is your chance to pick up the shirt of your dreams. Don't miss out!\"\n",
    "    \n",
    "    msg = f\"Subject: {subject}\\n\\n{body}\"\n",
    "    \n",
    "    server.sendmail(\n",
    "        'ericmatos02@gmail.com', msg\n",
    "    )"
   ]
  },
  {
   "cell_type": "code",
   "execution_count": 2,
   "id": "3c99b81a",
   "metadata": {},
   "outputs": [],
   "source": [
    "#defines check price function, combining all of the above code into one function\n",
    "\n",
    "def check_price():\n",
    "    URL = 'https://www.amazon.com/Funny-Data-Systems-Business-Analyst/dp/B07FNW9FGJ/ref=sr_1_3?keywords=data%2Banalyst%2Btshirt&qid=1647550723&sprefix=data%2Banalys%2Caps%2C155&sr=8-3'\n",
    "\n",
    "    headers = {\"User-Agent\": \"Mozilla/5.0 (Macintosh; Intel Mac OS X 10_15_7) AppleWebKit/537.36 (KHTML, like Gecko) Chrome/98.0.4758.102 Safari/537.36\", \"Accept-Encoding\":\"gzip, deflate\", \"Accept\":\"text/html,application/xhtml+xml,application/xml;q=0.9,*/*;q=0.8\", \"DNT\":\"1\",\"Connection\":\"close\", \"Upgrade-Insecure-Requests\":\"1\"}\n",
    "\n",
    "    page = requests.get(URL, headers=headers)\n",
    "\n",
    "    soup1 = BeautifulSoup(page.content, \"html.parser\")\n",
    "\n",
    "    soup2 = BeautifulSoup(soup1.prettify(), \"html.parser\")\n",
    "\n",
    "    title = soup2.find(id='productTitle').get_text() \n",
    "\n",
    "    price = soup2.find('span','a-offscreen').get_text() \n",
    "\n",
    "    price = price.strip()[1:] \n",
    "    title = title.strip() \n",
    "\n",
    "    import datetime\n",
    "\n",
    "    today = datetime.date.today()\n",
    "\n",
    "    header = ['Title', 'Price', 'Date'] \n",
    "    data = [title, price, today]\n",
    "    \n",
    "    with open('AmazonWebScraperDataset.csv', 'a+', newline='', encoding='UTF8') as f: #creating csv file and inserting the data\n",
    "        writer = csv.writer(f)\n",
    "        writer.writerow(data)\n",
    "        \n",
    "  #  if(price < 14):\n",
    "  #     send_mail()"
   ]
  },
  
   "source": [
    "#Runs check_price after a set time, inputting the data into the CSV file\n",
    "\n",
    "while(True):\n",
    "    check_price()\n",
    "    time.sleep(86400)"
   ]
  },
  {
   "cell_type": "code",
   "execution_count": 26,
   "id": "66a229c7",
   "metadata": {
    "scrolled": true
   },
   "outputs": [
    {
     "name": "stdout",
     "output_type": "stream",
     "text": [
      "                                               Title  Price        Date\n",
      "0  Funny Got Data MIS Data Systems Business Analy...  16.99  2022-03-17\n",
      "1  Funny Got Data MIS Data Systems Business Analy...  16.99  2022-03-17\n",
      "2  Funny Got Data MIS Data Systems Business Analy...  16.99  2022-03-17\n",
      "3  Funny Got Data MIS Data Systems Business Analy...  16.99  2022-03-17\n",
      "4  Funny Got Data MIS Data Systems Business Analy...  16.99  2022-03-17\n",
      "5  Funny Got Data MIS Data Systems Business Analy...  16.99  2022-03-17\n",
      "6  Funny Got Data MIS Data Systems Business Analy...  16.99  2022-03-17\n",
      "7  Funny Got Data MIS Data Systems Business Analy...  16.99  2022-03-17\n",
      "8  Funny Got Data MIS Data Systems Business Analy...  16.99  2022-03-17\n"
     ]
    }
   ],
   "source": [
    "import pandas as pd\n",
    "\n",
    "df = pd.read_csv(r'/Users/ericmatos/AmazonWebScraperDataset.csv')\n",
    "\n",
    "print(df)"
   ]
  },
  {
   "cell_type": "code",
   "execution_count": null,
   "id": "f0186a9d",
   "metadata": {},
   "outputs": [],
   "source": []
  }
 ],
 "metadata": {
  "kernelspec": {
   "display_name": "Python 3 (ipykernel)",
   "language": "python",
   "name": "python3"
  },
  "language_info": {
   "codemirror_mode": {
    "name": "ipython",
    "version": 3
   },
   "file_extension": ".py",
   "mimetype": "text/x-python",
   "name": "python",
   "nbconvert_exporter": "python",
   "pygments_lexer": "ipython3",
   "version": "3.9.7"
  }
 },
 "nbformat": 4,
 "nbformat_minor": 5
}
